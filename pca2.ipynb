{
 "cells": [
  {
   "cell_type": "markdown",
   "id": "27aa8ca6-c147-40f2-9b7c-ac67c75338e4",
   "metadata": {},
   "source": [
    "### report which features were selected by RFE"
   ]
  },
  {
   "cell_type": "code",
   "execution_count": 1,
   "id": "0146011c-92c0-468a-86d5-9cf3d1add6d7",
   "metadata": {},
   "outputs": [],
   "source": [
    "from sklearn.datasets import make_classification\n",
    "from sklearn.feature_selection import RFE\n",
    "from sklearn.tree import DecisionTreeClassifier"
   ]
  },
  {
   "cell_type": "code",
   "execution_count": 2,
   "id": "23c6fe69-f405-4611-9def-c128b66025ef",
   "metadata": {},
   "outputs": [],
   "source": [
    "# example of pca for dimensionality reduction\n",
    "from sklearn.datasets import make_classification\n",
    "from sklearn.decomposition import PCA"
   ]
  },
  {
   "cell_type": "code",
   "execution_count": 3,
   "id": "e3183759-1ee1-4889-a80a-e25254e35afb",
   "metadata": {},
   "outputs": [],
   "source": [
    "import pandas as pd"
   ]
  },
  {
   "cell_type": "code",
   "execution_count": 4,
   "id": "77f97373-a992-4ee1-b047-933681c0fd5f",
   "metadata": {},
   "outputs": [],
   "source": [
    "# import XLS file\n",
    "path = \"C:\\\\Users\\\\Lenovo\\\\Desktop\\\\2021-K-Digital-Training-main\\\\Big_Data_Analysis\\\\feature_selection\\\\credit_cards_dataset.csv\"\n",
    "data = pd.read_csv(path) # skip the first row of the spreadsheet"
   ]
  },
  {
   "cell_type": "code",
   "execution_count": 5,
   "id": "2a697e9a-c38a-4579-95a5-dfeee0c4d98c",
   "metadata": {},
   "outputs": [],
   "source": [
    "data = data.rename(columns={'default payment next month': 'DEFAULT_NEXT_MONTH'})"
   ]
  },
  {
   "cell_type": "code",
   "execution_count": 6,
   "id": "2c33c287-99f1-4915-a205-7a3b86646e9d",
   "metadata": {},
   "outputs": [
    {
     "name": "stdout",
     "output_type": "stream",
     "text": [
      "y = default.payment.next.month\n",
      "X = ['LIMIT_BAL', 'SEX', 'EDUCATION', 'MARRIAGE', 'AGE', 'PAY_0', 'PAY_2', 'PAY_3', 'PAY_4', 'PAY_5', 'PAY_6', 'BILL_AMT1', 'BILL_AMT2', 'BILL_AMT3', 'BILL_AMT4', 'BILL_AMT5', 'BILL_AMT6', 'PAY_AMT1', 'PAY_AMT2', 'PAY_AMT3', 'PAY_AMT4', 'PAY_AMT5', 'PAY_AMT6']\n"
     ]
    }
   ],
   "source": [
    "y='default.payment.next.month'\n",
    "X = [name for name in data.columns if name not in [y, 'ID', 'Y_Value']]\n",
    "print('y =', y)\n",
    "print('X =', X)"
   ]
  },
  {
   "cell_type": "code",
   "execution_count": 7,
   "id": "2f1e4cb7-69b5-45d1-9087-98ed5b0a8a1b",
   "metadata": {},
   "outputs": [],
   "source": [
    "X=data[X]"
   ]
  },
  {
   "cell_type": "code",
   "execution_count": null,
   "id": "0708e135-add0-4e8c-9b56-f381827a318a",
   "metadata": {},
   "outputs": [],
   "source": [
    "X"
   ]
  },
  {
   "cell_type": "code",
   "execution_count": null,
   "id": "c6ad65f4-36a3-4d0b-b2fc-8d4dfb8a2808",
   "metadata": {},
   "outputs": [],
   "source": [
    "y=data['default.payment.next.month']"
   ]
  },
  {
   "cell_type": "code",
   "execution_count": null,
   "id": "15379ce9-9da1-4f8d-a85b-6f6cce0091f0",
   "metadata": {},
   "outputs": [],
   "source": [
    "y"
   ]
  },
  {
   "cell_type": "code",
   "execution_count": null,
   "id": "690180b6-d069-4857-8960-b7fd661bae45",
   "metadata": {},
   "outputs": [],
   "source": []
  },
  {
   "cell_type": "code",
   "execution_count": null,
   "id": "775d0e3f-9b01-48da-abc1-afdf56adc00e",
   "metadata": {},
   "outputs": [],
   "source": [
    "# define dataset\n",
    "#X, y = make_classification(n_samples=1000, n_features=23, n_informative=5, n_redundant=5,random_state=42)"
   ]
  },
  {
   "cell_type": "code",
   "execution_count": null,
   "id": "9a9399e4-aeb8-4fc4-bf09-b0471ed19a29",
   "metadata": {},
   "outputs": [],
   "source": [
    "#!cd"
   ]
  },
  {
   "cell_type": "code",
   "execution_count": null,
   "id": "453b2668-a8d1-426a-a124-81a774cd70ee",
   "metadata": {},
   "outputs": [],
   "source": [
    "#%cd C:\\Users\\i\\Desktop\\2021-K-Digital-Training-main\\Preprocessing"
   ]
  },
  {
   "cell_type": "code",
   "execution_count": null,
   "id": "05d7c60f-4e3c-4473-83a9-8f0cb8c49f84",
   "metadata": {},
   "outputs": [],
   "source": [
    "X.shape"
   ]
  },
  {
   "cell_type": "code",
   "execution_count": null,
   "id": "fae9ce5b-f481-46ac-a0b7-fd7b748a6adc",
   "metadata": {},
   "outputs": [],
   "source": [
    "y.shape"
   ]
  },
  {
   "cell_type": "code",
   "execution_count": null,
   "id": "84032074-3b64-496e-b376-3a240333f776",
   "metadata": {},
   "outputs": [],
   "source": [
    "y.ndim"
   ]
  },
  {
   "cell_type": "code",
   "execution_count": null,
   "id": "a14f1c67-a16e-4fcc-9579-6015fb9b110f",
   "metadata": {},
   "outputs": [],
   "source": [
    "#(1000,)"
   ]
  },
  {
   "cell_type": "code",
   "execution_count": 8,
   "id": "58197f0c-53a2-4055-af6f-57287c5f2804",
   "metadata": {},
   "outputs": [],
   "source": [
    "trans = PCA(n_components=10)"
   ]
  },
  {
   "cell_type": "code",
   "execution_count": 9,
   "id": "dec9f3ad-8f47-4982-8496-37972c6be298",
   "metadata": {},
   "outputs": [],
   "source": [
    "X_dim = trans.fit_transform(X)"
   ]
  },
  {
   "cell_type": "code",
   "execution_count": 10,
   "id": "4217d168-27f6-4a06-a779-c02024a67c9c",
   "metadata": {},
   "outputs": [
    {
     "name": "stdout",
     "output_type": "stream",
     "text": [
      "[[-1.66488191e+05 -7.55381537e+04 -4.72952106e+02 -1.38240596e+02\n",
      "   3.56372601e+02 -2.28581767e+01 -8.61737802e+02  7.90130839e+01\n",
      "   1.89499608e+02  7.14585844e+02]\n",
      " [-1.14226977e+05  9.78067125e+03  2.73444748e+03 -1.56719589e+03\n",
      "  -4.05071033e+03  6.96602606e+02 -1.51605853e+03  1.26172075e+03\n",
      "  -6.26282074e+02  4.83598389e+02]\n",
      " [-9.84323622e+04 -3.34713873e+04 -2.67846979e+03 -5.10226236e+03\n",
      "   3.36117708e+03  1.77028488e+02 -6.98694432e+03  1.61205566e+03\n",
      "  -2.28383642e+03  4.59992560e+03]]\n"
     ]
    }
   ],
   "source": [
    "print(X_dim[:3, :])"
   ]
  },
  {
   "cell_type": "markdown",
   "id": "60196c36-bcaa-411f-a9f2-3a7da89301c5",
   "metadata": {},
   "source": [
    "# define RFE\n",
    "rfe = RFE(estimator=DecisionTreeClassifier(), n_features_to_select=10)"
   ]
  },
  {
   "cell_type": "markdown",
   "id": "09400792-20ac-4ef0-bb60-d9416473a8eb",
   "metadata": {},
   "source": [
    "rfe"
   ]
  },
  {
   "cell_type": "markdown",
   "id": "e6c20ac2-2661-42a2-a37d-1e9703d8b118",
   "metadata": {},
   "source": [
    "# fit RFE\n",
    "rfe.fit(X, y)"
   ]
  },
  {
   "cell_type": "markdown",
   "id": "be70ead0-deb7-4363-8283-a6e7dc098836",
   "metadata": {},
   "source": [
    "X.shape"
   ]
  },
  {
   "cell_type": "markdown",
   "id": "30a95d18-a31d-46a8-9d94-e6198a2e5985",
   "metadata": {},
   "source": [
    "# summarize all features\n",
    "for i in range(X.shape[1]):\n",
    "  print('Column: %d, Selected=%s, Rank: %d' % (i, rfe.support_[i], rfe.ranking_[i]))"
   ]
  },
  {
   "cell_type": "code",
   "execution_count": null,
   "id": "ba5d6318-e464-4e02-8d97-927eb28793d0",
   "metadata": {},
   "outputs": [],
   "source": []
  }
 ],
 "metadata": {
  "kernelspec": {
   "display_name": "Python Multi",
   "language": "python",
   "name": "multi"
  },
  "language_info": {
   "codemirror_mode": {
    "name": "ipython",
    "version": 3
   },
   "file_extension": ".py",
   "mimetype": "text/x-python",
   "name": "python",
   "nbconvert_exporter": "python",
   "pygments_lexer": "ipython3",
   "version": "3.7.6"
  }
 },
 "nbformat": 4,
 "nbformat_minor": 5
}
